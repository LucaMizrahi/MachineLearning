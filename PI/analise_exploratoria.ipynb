{
 "cells": [
  {
   "cell_type": "code",
   "execution_count": 2,
   "metadata": {},
   "outputs": [],
   "source": [
    "import pandas as pd"
   ]
  },
  {
   "cell_type": "markdown",
   "metadata": {},
   "source": [
    "## Contexto do problema"
   ]
  },
  {
   "cell_type": "markdown",
   "metadata": {},
   "source": [
    "Dataset obtido de https://www.kaggle.com/datasets/adityadesai13/used-car-dataset-ford-and-mercedes\n",
    "\n",
    "| coluna       | descrição                            | tipo da coluna |\n",
    "|--------------|--------------------------------------|----------------|\n",
    "| model        | modelo do carro                      | categórica     |\n",
    "| year         | ano de registro                      | inteiro        |\n",
    "| price        | preço em libras esterlinas           | número real    |\n",
    "| transmission | tipo de transmissão                  | categórica     |\n",
    "| mileage      | o quanto o carro já rodou, em milhas | número real    |\n",
    "| fuelType     | tipo de combustível                  | categórica     |\n",
    "| engineSize   | cilindrada, em litros                | número real    |\n",
    "\n",
    "O target é o preço do carro."
   ]
  },
  {
   "cell_type": "markdown",
   "metadata": {},
   "source": [
    "## Análise Exploratória"
   ]
  },
  {
   "cell_type": "markdown",
   "metadata": {},
   "source": [
    "A análise exploratória consiste em:\n",
    "\n",
    "- Leitura dos dados e filtragem inicial. Nesta etapa não podemos fazer nada que possa enviesar a modelagem, um erro conhecido como *data snooping*.\n",
    "\n",
    "- Separação treinamento-teste e análise exploratória dos dados de treinamento.\n",
    "\n",
    "Neste notebook vamos nos limitar à leitura de dados e filtragem inicial."
   ]
  },
  {
   "cell_type": "markdown",
   "metadata": {},
   "source": [
    "### Lendo os dados"
   ]
  },
  {
   "cell_type": "code",
   "execution_count": 3,
   "metadata": {},
   "outputs": [],
   "source": [
    "FILENAME = 'cclass.csv'"
   ]
  },
  {
   "cell_type": "code",
   "execution_count": 4,
   "metadata": {},
   "outputs": [],
   "source": [
    "df = pd.read_csv(FILENAME)"
   ]
  },
  {
   "cell_type": "markdown",
   "metadata": {},
   "source": [
    "Verificando se a leitura foi bem sucedida:"
   ]
  },
  {
   "cell_type": "code",
   "execution_count": 5,
   "metadata": {},
   "outputs": [
    {
     "data": {
      "text/html": [
       "<div>\n",
       "<style scoped>\n",
       "    .dataframe tbody tr th:only-of-type {\n",
       "        vertical-align: middle;\n",
       "    }\n",
       "\n",
       "    .dataframe tbody tr th {\n",
       "        vertical-align: top;\n",
       "    }\n",
       "\n",
       "    .dataframe thead th {\n",
       "        text-align: right;\n",
       "    }\n",
       "</style>\n",
       "<table border=\"1\" class=\"dataframe\">\n",
       "  <thead>\n",
       "    <tr style=\"text-align: right;\">\n",
       "      <th></th>\n",
       "      <th>model</th>\n",
       "      <th>year</th>\n",
       "      <th>price</th>\n",
       "      <th>transmission</th>\n",
       "      <th>mileage</th>\n",
       "      <th>fuelType</th>\n",
       "      <th>engineSize</th>\n",
       "    </tr>\n",
       "  </thead>\n",
       "  <tbody>\n",
       "    <tr>\n",
       "      <th>0</th>\n",
       "      <td>C Class</td>\n",
       "      <td>2020</td>\n",
       "      <td>30495</td>\n",
       "      <td>Automatic</td>\n",
       "      <td>1200</td>\n",
       "      <td>Diesel</td>\n",
       "      <td>2.0</td>\n",
       "    </tr>\n",
       "    <tr>\n",
       "      <th>1</th>\n",
       "      <td>C Class</td>\n",
       "      <td>2020</td>\n",
       "      <td>29989</td>\n",
       "      <td>Automatic</td>\n",
       "      <td>1000</td>\n",
       "      <td>Petrol</td>\n",
       "      <td>1.5</td>\n",
       "    </tr>\n",
       "    <tr>\n",
       "      <th>2</th>\n",
       "      <td>C Class</td>\n",
       "      <td>2020</td>\n",
       "      <td>37899</td>\n",
       "      <td>Automatic</td>\n",
       "      <td>500</td>\n",
       "      <td>Diesel</td>\n",
       "      <td>2.0</td>\n",
       "    </tr>\n",
       "    <tr>\n",
       "      <th>3</th>\n",
       "      <td>C Class</td>\n",
       "      <td>2019</td>\n",
       "      <td>30399</td>\n",
       "      <td>Automatic</td>\n",
       "      <td>5000</td>\n",
       "      <td>Diesel</td>\n",
       "      <td>2.0</td>\n",
       "    </tr>\n",
       "    <tr>\n",
       "      <th>4</th>\n",
       "      <td>C Class</td>\n",
       "      <td>2019</td>\n",
       "      <td>29899</td>\n",
       "      <td>Automatic</td>\n",
       "      <td>4500</td>\n",
       "      <td>Diesel</td>\n",
       "      <td>2.0</td>\n",
       "    </tr>\n",
       "  </tbody>\n",
       "</table>\n",
       "</div>"
      ],
      "text/plain": [
       "      model  year  price transmission  mileage fuelType  engineSize\n",
       "0   C Class  2020  30495    Automatic     1200   Diesel         2.0\n",
       "1   C Class  2020  29989    Automatic     1000   Petrol         1.5\n",
       "2   C Class  2020  37899    Automatic      500   Diesel         2.0\n",
       "3   C Class  2019  30399    Automatic     5000   Diesel         2.0\n",
       "4   C Class  2019  29899    Automatic     4500   Diesel         2.0"
      ]
     },
     "execution_count": 5,
     "metadata": {},
     "output_type": "execute_result"
    }
   ],
   "source": [
    "df.head()"
   ]
  },
  {
   "cell_type": "markdown",
   "metadata": {},
   "source": [
    "Ajustando os tipos de dados:"
   ]
  },
  {
   "cell_type": "code",
   "execution_count": 6,
   "metadata": {},
   "outputs": [
    {
     "name": "stdout",
     "output_type": "stream",
     "text": [
      "<class 'pandas.core.frame.DataFrame'>\n",
      "RangeIndex: 3899 entries, 0 to 3898\n",
      "Data columns (total 7 columns):\n",
      " #   Column        Non-Null Count  Dtype  \n",
      "---  ------        --------------  -----  \n",
      " 0   model         3899 non-null   object \n",
      " 1   year          3899 non-null   int64  \n",
      " 2   price         3899 non-null   int64  \n",
      " 3   transmission  3899 non-null   object \n",
      " 4   mileage       3899 non-null   int64  \n",
      " 5   fuelType      3899 non-null   object \n",
      " 6   engineSize    3899 non-null   float64\n",
      "dtypes: float64(1), int64(3), object(3)\n",
      "memory usage: 213.4+ KB\n"
     ]
    }
   ],
   "source": [
    "df.info()"
   ]
  },
  {
   "cell_type": "code",
   "execution_count": 7,
   "metadata": {},
   "outputs": [
    {
     "name": "stdout",
     "output_type": "stream",
     "text": [
      "<class 'pandas.core.frame.DataFrame'>\n",
      "RangeIndex: 3899 entries, 0 to 3898\n",
      "Data columns (total 7 columns):\n",
      " #   Column        Non-Null Count  Dtype   \n",
      "---  ------        --------------  -----   \n",
      " 0   model         3899 non-null   category\n",
      " 1   year          3899 non-null   int32   \n",
      " 2   price         3899 non-null   float64 \n",
      " 3   transmission  3899 non-null   category\n",
      " 4   mileage       3899 non-null   float64 \n",
      " 5   fuelType      3899 non-null   category\n",
      " 6   engineSize    3899 non-null   float64 \n",
      "dtypes: category(3), float64(3), int32(1)\n",
      "memory usage: 118.7 KB\n"
     ]
    }
   ],
   "source": [
    "df = df \\\n",
    "    .astype({ \\\n",
    "        'model': 'category', \\\n",
    "        'year': 'int', \\\n",
    "        'price': 'float', \\\n",
    "        'transmission': 'category', \\\n",
    "        'mileage': 'float', \\\n",
    "        'fuelType': 'category', \\\n",
    "        'engineSize': 'float', \\\n",
    "    })\n",
    "\n",
    "df.info()"
   ]
  },
  {
   "cell_type": "markdown",
   "metadata": {},
   "source": [
    "### Filtragem inicial dos dados"
   ]
  },
  {
   "cell_type": "markdown",
   "metadata": {},
   "source": [
    "Este arquivo contem apenas informação sobre o modelo \"classe C\" da Mercedes. Isto pode ser visto na coluna \"model\":"
   ]
  },
  {
   "cell_type": "code",
   "execution_count": 8,
   "metadata": {},
   "outputs": [
    {
     "data": {
      "text/plain": [
       "model\n",
       " C Class    3899\n",
       "Name: count, dtype: int64"
      ]
     },
     "execution_count": 8,
     "metadata": {},
     "output_type": "execute_result"
    }
   ],
   "source": [
    "df['model'].value_counts()"
   ]
  },
  {
   "cell_type": "markdown",
   "metadata": {},
   "source": [
    "Vamos remover essa coluna não-informativa:"
   ]
  },
  {
   "cell_type": "code",
   "execution_count": 9,
   "metadata": {},
   "outputs": [],
   "source": [
    "df = df.drop(columns=['model'])"
   ]
  },
  {
   "cell_type": "code",
   "execution_count": 10,
   "metadata": {},
   "outputs": [
    {
     "name": "stdout",
     "output_type": "stream",
     "text": [
      "<class 'pandas.core.frame.DataFrame'>\n",
      "RangeIndex: 3899 entries, 0 to 3898\n",
      "Data columns (total 6 columns):\n",
      " #   Column        Non-Null Count  Dtype   \n",
      "---  ------        --------------  -----   \n",
      " 0   year          3899 non-null   int32   \n",
      " 1   price         3899 non-null   float64 \n",
      " 2   transmission  3899 non-null   category\n",
      " 3   mileage       3899 non-null   float64 \n",
      " 4   fuelType      3899 non-null   category\n",
      " 5   engineSize    3899 non-null   float64 \n",
      "dtypes: category(2), float64(3), int32(1)\n",
      "memory usage: 114.8 KB\n"
     ]
    }
   ],
   "source": [
    "df.info()"
   ]
  },
  {
   "cell_type": "markdown",
   "metadata": {},
   "source": [
    "Vamos agora observar características descritivas simples para entender inicialmente o *dataset*."
   ]
  },
  {
   "cell_type": "code",
   "execution_count": 11,
   "metadata": {},
   "outputs": [
    {
     "data": {
      "text/html": [
       "<div>\n",
       "<style scoped>\n",
       "    .dataframe tbody tr th:only-of-type {\n",
       "        vertical-align: middle;\n",
       "    }\n",
       "\n",
       "    .dataframe tbody tr th {\n",
       "        vertical-align: top;\n",
       "    }\n",
       "\n",
       "    .dataframe thead th {\n",
       "        text-align: right;\n",
       "    }\n",
       "</style>\n",
       "<table border=\"1\" class=\"dataframe\">\n",
       "  <thead>\n",
       "    <tr style=\"text-align: right;\">\n",
       "      <th></th>\n",
       "      <th>transmission</th>\n",
       "      <th>fuelType</th>\n",
       "    </tr>\n",
       "  </thead>\n",
       "  <tbody>\n",
       "    <tr>\n",
       "      <th>count</th>\n",
       "      <td>3899</td>\n",
       "      <td>3899</td>\n",
       "    </tr>\n",
       "    <tr>\n",
       "      <th>unique</th>\n",
       "      <td>4</td>\n",
       "      <td>4</td>\n",
       "    </tr>\n",
       "    <tr>\n",
       "      <th>top</th>\n",
       "      <td>Semi-Auto</td>\n",
       "      <td>Diesel</td>\n",
       "    </tr>\n",
       "    <tr>\n",
       "      <th>freq</th>\n",
       "      <td>2071</td>\n",
       "      <td>2340</td>\n",
       "    </tr>\n",
       "  </tbody>\n",
       "</table>\n",
       "</div>"
      ],
      "text/plain": [
       "       transmission fuelType\n",
       "count          3899     3899\n",
       "unique            4        4\n",
       "top       Semi-Auto   Diesel\n",
       "freq           2071     2340"
      ]
     },
     "execution_count": 11,
     "metadata": {},
     "output_type": "execute_result"
    }
   ],
   "source": [
    "df.select_dtypes(include='category').describe()"
   ]
  },
  {
   "cell_type": "code",
   "execution_count": 12,
   "metadata": {},
   "outputs": [
    {
     "data": {
      "text/html": [
       "<div>\n",
       "<style scoped>\n",
       "    .dataframe tbody tr th:only-of-type {\n",
       "        vertical-align: middle;\n",
       "    }\n",
       "\n",
       "    .dataframe tbody tr th {\n",
       "        vertical-align: top;\n",
       "    }\n",
       "\n",
       "    .dataframe thead th {\n",
       "        text-align: right;\n",
       "    }\n",
       "</style>\n",
       "<table border=\"1\" class=\"dataframe\">\n",
       "  <thead>\n",
       "    <tr style=\"text-align: right;\">\n",
       "      <th></th>\n",
       "      <th>year</th>\n",
       "      <th>price</th>\n",
       "      <th>mileage</th>\n",
       "      <th>engineSize</th>\n",
       "    </tr>\n",
       "  </thead>\n",
       "  <tbody>\n",
       "    <tr>\n",
       "      <th>count</th>\n",
       "      <td>3899.000000</td>\n",
       "      <td>3899.000000</td>\n",
       "      <td>3899.000000</td>\n",
       "      <td>3899.000000</td>\n",
       "    </tr>\n",
       "    <tr>\n",
       "      <th>mean</th>\n",
       "      <td>2017.338548</td>\n",
       "      <td>23674.286997</td>\n",
       "      <td>22395.709156</td>\n",
       "      <td>2.037394</td>\n",
       "    </tr>\n",
       "    <tr>\n",
       "      <th>std</th>\n",
       "      <td>2.213416</td>\n",
       "      <td>8960.218218</td>\n",
       "      <td>22630.438426</td>\n",
       "      <td>0.487769</td>\n",
       "    </tr>\n",
       "    <tr>\n",
       "      <th>min</th>\n",
       "      <td>1991.000000</td>\n",
       "      <td>1290.000000</td>\n",
       "      <td>1.000000</td>\n",
       "      <td>0.000000</td>\n",
       "    </tr>\n",
       "    <tr>\n",
       "      <th>25%</th>\n",
       "      <td>2016.000000</td>\n",
       "      <td>17690.000000</td>\n",
       "      <td>6000.000000</td>\n",
       "      <td>2.000000</td>\n",
       "    </tr>\n",
       "    <tr>\n",
       "      <th>50%</th>\n",
       "      <td>2018.000000</td>\n",
       "      <td>22980.000000</td>\n",
       "      <td>14640.000000</td>\n",
       "      <td>2.000000</td>\n",
       "    </tr>\n",
       "    <tr>\n",
       "      <th>75%</th>\n",
       "      <td>2019.000000</td>\n",
       "      <td>28900.000000</td>\n",
       "      <td>32458.500000</td>\n",
       "      <td>2.100000</td>\n",
       "    </tr>\n",
       "    <tr>\n",
       "      <th>max</th>\n",
       "      <td>2020.000000</td>\n",
       "      <td>88995.000000</td>\n",
       "      <td>173000.000000</td>\n",
       "      <td>6.200000</td>\n",
       "    </tr>\n",
       "  </tbody>\n",
       "</table>\n",
       "</div>"
      ],
      "text/plain": [
       "              year         price        mileage   engineSize\n",
       "count  3899.000000   3899.000000    3899.000000  3899.000000\n",
       "mean   2017.338548  23674.286997   22395.709156     2.037394\n",
       "std       2.213416   8960.218218   22630.438426     0.487769\n",
       "min    1991.000000   1290.000000       1.000000     0.000000\n",
       "25%    2016.000000  17690.000000    6000.000000     2.000000\n",
       "50%    2018.000000  22980.000000   14640.000000     2.000000\n",
       "75%    2019.000000  28900.000000   32458.500000     2.100000\n",
       "max    2020.000000  88995.000000  173000.000000     6.200000"
      ]
     },
     "execution_count": 12,
     "metadata": {},
     "output_type": "execute_result"
    }
   ],
   "source": [
    "df.select_dtypes(include='number').describe()"
   ]
  },
  {
   "cell_type": "markdown",
   "metadata": {},
   "source": [
    "#### `transmission`"
   ]
  },
  {
   "cell_type": "code",
   "execution_count": 13,
   "metadata": {},
   "outputs": [
    {
     "data": {
      "text/plain": [
       "transmission\n",
       "Semi-Auto    2071\n",
       "Automatic    1628\n",
       "Manual        199\n",
       "Other           1\n",
       "Name: count, dtype: int64"
      ]
     },
     "execution_count": 13,
     "metadata": {},
     "output_type": "execute_result"
    }
   ],
   "source": [
    "df['transmission'].value_counts()"
   ]
  },
  {
   "cell_type": "markdown",
   "metadata": {},
   "source": [
    "Parece que temos um ponto estranho, de uma transmissão incomum:"
   ]
  },
  {
   "cell_type": "code",
   "execution_count": 14,
   "metadata": {},
   "outputs": [
    {
     "data": {
      "text/html": [
       "<div>\n",
       "<style scoped>\n",
       "    .dataframe tbody tr th:only-of-type {\n",
       "        vertical-align: middle;\n",
       "    }\n",
       "\n",
       "    .dataframe tbody tr th {\n",
       "        vertical-align: top;\n",
       "    }\n",
       "\n",
       "    .dataframe thead th {\n",
       "        text-align: right;\n",
       "    }\n",
       "</style>\n",
       "<table border=\"1\" class=\"dataframe\">\n",
       "  <thead>\n",
       "    <tr style=\"text-align: right;\">\n",
       "      <th></th>\n",
       "      <th>year</th>\n",
       "      <th>price</th>\n",
       "      <th>transmission</th>\n",
       "      <th>mileage</th>\n",
       "      <th>fuelType</th>\n",
       "      <th>engineSize</th>\n",
       "    </tr>\n",
       "  </thead>\n",
       "  <tbody>\n",
       "    <tr>\n",
       "      <th>3815</th>\n",
       "      <td>2012</td>\n",
       "      <td>11995.0</td>\n",
       "      <td>Other</td>\n",
       "      <td>44644.0</td>\n",
       "      <td>Diesel</td>\n",
       "      <td>3.0</td>\n",
       "    </tr>\n",
       "  </tbody>\n",
       "</table>\n",
       "</div>"
      ],
      "text/plain": [
       "      year    price transmission  mileage fuelType  engineSize\n",
       "3815  2012  11995.0        Other  44644.0   Diesel         3.0"
      ]
     },
     "execution_count": 14,
     "metadata": {},
     "output_type": "execute_result"
    }
   ],
   "source": [
    "df[df['transmission'] == 'Other']"
   ]
  },
  {
   "cell_type": "markdown",
   "metadata": {},
   "source": [
    "Vamos remover esse categoria de um ponto só:"
   ]
  },
  {
   "cell_type": "code",
   "execution_count": 15,
   "metadata": {},
   "outputs": [],
   "source": [
    "df = df.drop(df[df['transmission'] == 'Other'].index)"
   ]
  },
  {
   "cell_type": "code",
   "execution_count": 16,
   "metadata": {},
   "outputs": [],
   "source": [
    "df['transmission'] = df['transmission'].cat.remove_unused_categories()"
   ]
  },
  {
   "cell_type": "code",
   "execution_count": 17,
   "metadata": {},
   "outputs": [
    {
     "data": {
      "text/plain": [
       "transmission\n",
       "Semi-Auto    2071\n",
       "Automatic    1628\n",
       "Manual        199\n",
       "Name: count, dtype: int64"
      ]
     },
     "execution_count": 17,
     "metadata": {},
     "output_type": "execute_result"
    }
   ],
   "source": [
    "df['transmission'].value_counts()"
   ]
  },
  {
   "cell_type": "markdown",
   "metadata": {},
   "source": [
    "E, por fim, não podemos esquecer que criamos uma limitação para nosso modelo: a transmissão tem que ser dos três tipos acima apenas."
   ]
  },
  {
   "cell_type": "markdown",
   "metadata": {},
   "source": [
    "#### `fuelType`"
   ]
  },
  {
   "cell_type": "code",
   "execution_count": 18,
   "metadata": {},
   "outputs": [
    {
     "data": {
      "text/plain": [
       "fuelType\n",
       "Diesel    2339\n",
       "Petrol    1402\n",
       "Hybrid     151\n",
       "Other        6\n",
       "Name: count, dtype: int64"
      ]
     },
     "execution_count": 18,
     "metadata": {},
     "output_type": "execute_result"
    }
   ],
   "source": [
    "df['fuelType'].value_counts()"
   ]
  },
  {
   "cell_type": "markdown",
   "metadata": {},
   "source": [
    "Parece que tem novamente uma categoria sub-representada"
   ]
  },
  {
   "cell_type": "code",
   "execution_count": 19,
   "metadata": {},
   "outputs": [
    {
     "data": {
      "text/html": [
       "<div>\n",
       "<style scoped>\n",
       "    .dataframe tbody tr th:only-of-type {\n",
       "        vertical-align: middle;\n",
       "    }\n",
       "\n",
       "    .dataframe tbody tr th {\n",
       "        vertical-align: top;\n",
       "    }\n",
       "\n",
       "    .dataframe thead th {\n",
       "        text-align: right;\n",
       "    }\n",
       "</style>\n",
       "<table border=\"1\" class=\"dataframe\">\n",
       "  <thead>\n",
       "    <tr style=\"text-align: right;\">\n",
       "      <th></th>\n",
       "      <th>year</th>\n",
       "      <th>price</th>\n",
       "      <th>transmission</th>\n",
       "      <th>mileage</th>\n",
       "      <th>fuelType</th>\n",
       "      <th>engineSize</th>\n",
       "    </tr>\n",
       "  </thead>\n",
       "  <tbody>\n",
       "    <tr>\n",
       "      <th>3564</th>\n",
       "      <td>2017</td>\n",
       "      <td>16000.0</td>\n",
       "      <td>Automatic</td>\n",
       "      <td>54011.0</td>\n",
       "      <td>Other</td>\n",
       "      <td>2.0</td>\n",
       "    </tr>\n",
       "    <tr>\n",
       "      <th>3567</th>\n",
       "      <td>2015</td>\n",
       "      <td>15000.0</td>\n",
       "      <td>Automatic</td>\n",
       "      <td>53400.0</td>\n",
       "      <td>Other</td>\n",
       "      <td>2.0</td>\n",
       "    </tr>\n",
       "    <tr>\n",
       "      <th>3570</th>\n",
       "      <td>2017</td>\n",
       "      <td>17400.0</td>\n",
       "      <td>Automatic</td>\n",
       "      <td>52897.0</td>\n",
       "      <td>Other</td>\n",
       "      <td>2.0</td>\n",
       "    </tr>\n",
       "    <tr>\n",
       "      <th>3698</th>\n",
       "      <td>2016</td>\n",
       "      <td>13850.0</td>\n",
       "      <td>Automatic</td>\n",
       "      <td>77814.0</td>\n",
       "      <td>Other</td>\n",
       "      <td>2.0</td>\n",
       "    </tr>\n",
       "    <tr>\n",
       "      <th>3806</th>\n",
       "      <td>2016</td>\n",
       "      <td>15200.0</td>\n",
       "      <td>Automatic</td>\n",
       "      <td>51380.0</td>\n",
       "      <td>Other</td>\n",
       "      <td>2.0</td>\n",
       "    </tr>\n",
       "    <tr>\n",
       "      <th>3888</th>\n",
       "      <td>2020</td>\n",
       "      <td>41995.0</td>\n",
       "      <td>Automatic</td>\n",
       "      <td>400.0</td>\n",
       "      <td>Other</td>\n",
       "      <td>2.0</td>\n",
       "    </tr>\n",
       "  </tbody>\n",
       "</table>\n",
       "</div>"
      ],
      "text/plain": [
       "      year    price transmission  mileage fuelType  engineSize\n",
       "3564  2017  16000.0    Automatic  54011.0    Other         2.0\n",
       "3567  2015  15000.0    Automatic  53400.0    Other         2.0\n",
       "3570  2017  17400.0    Automatic  52897.0    Other         2.0\n",
       "3698  2016  13850.0    Automatic  77814.0    Other         2.0\n",
       "3806  2016  15200.0    Automatic  51380.0    Other         2.0\n",
       "3888  2020  41995.0    Automatic    400.0    Other         2.0"
      ]
     },
     "execution_count": 19,
     "metadata": {},
     "output_type": "execute_result"
    }
   ],
   "source": [
    "df[df['fuelType'] == 'Other']"
   ]
  },
  {
   "cell_type": "markdown",
   "metadata": {},
   "source": [
    "Vamos remover essa categoria de baixa representação:"
   ]
  },
  {
   "cell_type": "code",
   "execution_count": 20,
   "metadata": {},
   "outputs": [],
   "source": [
    "df = df.drop(df[df['fuelType'] == 'Other'].index)"
   ]
  },
  {
   "cell_type": "code",
   "execution_count": 21,
   "metadata": {},
   "outputs": [],
   "source": [
    "df['fuelType'] = df['fuelType'].cat.remove_unused_categories()"
   ]
  },
  {
   "cell_type": "code",
   "execution_count": 22,
   "metadata": {},
   "outputs": [
    {
     "data": {
      "text/plain": [
       "fuelType\n",
       "Diesel    2339\n",
       "Petrol    1402\n",
       "Hybrid     151\n",
       "Name: count, dtype: int64"
      ]
     },
     "execution_count": 22,
     "metadata": {},
     "output_type": "execute_result"
    }
   ],
   "source": [
    "df['fuelType'].value_counts()"
   ]
  },
  {
   "cell_type": "markdown",
   "metadata": {},
   "source": [
    "Novamente, criamos uma limitação para nosso modelo: apenas os tipos acima de combustível podem ser modelados."
   ]
  },
  {
   "cell_type": "markdown",
   "metadata": {},
   "source": [
    "#### `year`"
   ]
  },
  {
   "cell_type": "code",
   "execution_count": 23,
   "metadata": {},
   "outputs": [
    {
     "data": {
      "text/plain": [
       "year\n",
       "1991       1\n",
       "1995       1\n",
       "1998       1\n",
       "2002       4\n",
       "2003       1\n",
       "2004       3\n",
       "2005       5\n",
       "2006       3\n",
       "2007       7\n",
       "2008       8\n",
       "2009       7\n",
       "2010      10\n",
       "2011      13\n",
       "2012      25\n",
       "2013      64\n",
       "2014     136\n",
       "2015     320\n",
       "2016     543\n",
       "2017     663\n",
       "2018     362\n",
       "2019    1590\n",
       "2020     125\n",
       "Name: count, dtype: int64"
      ]
     },
     "execution_count": 23,
     "metadata": {},
     "output_type": "execute_result"
    }
   ],
   "source": [
    "df['year'].value_counts().sort_index()"
   ]
  },
  {
   "cell_type": "code",
   "execution_count": 24,
   "metadata": {},
   "outputs": [
    {
     "data": {
      "text/plain": [
       "<Axes: ylabel='year'>"
      ]
     },
     "execution_count": 24,
     "metadata": {},
     "output_type": "execute_result"
    },
    {
     "data": {
      "image/png": "[encoded data removed]",
      "text/plain": [
       "<Figure size 640x480 with 1 Axes>"
      ]
     },
     "metadata": {},
     "output_type": "display_data"
    }
   ],
   "source": [
    "df['year'].value_counts().sort_index(ascending=False).plot(kind='barh')"
   ]
  },
  {
   "cell_type": "markdown",
   "metadata": {},
   "source": [
    "Parece que temos poucos carros de anos anteriores a 2010. Vamos remover esses carros."
   ]
  },
  {
   "cell_type": "code",
   "execution_count": 25,
   "metadata": {},
   "outputs": [],
   "source": [
    "df = df.loc[df['year'] >= 2010, :]"
   ]
  },
  {
   "cell_type": "code",
   "execution_count": 26,
   "metadata": {},
   "outputs": [
    {
     "data": {
      "text/plain": [
       "year\n",
       "2010      10\n",
       "2011      13\n",
       "2012      25\n",
       "2013      64\n",
       "2014     136\n",
       "2015     320\n",
       "2016     543\n",
       "2017     663\n",
       "2018     362\n",
       "2019    1590\n",
       "2020     125\n",
       "Name: count, dtype: int64"
      ]
     },
     "execution_count": 26,
     "metadata": {},
     "output_type": "execute_result"
    }
   ],
   "source": [
    "df['year'].value_counts().sort_index()"
   ]
  },
  {
   "cell_type": "markdown",
   "metadata": {},
   "source": [
    "Limitação: este modelo servirá apenas para carros de 2010 em diante."
   ]
  },
  {
   "cell_type": "markdown",
   "metadata": {},
   "source": [
    "#### `engineSize`"
   ]
  },
  {
   "cell_type": "code",
   "execution_count": 27,
   "metadata": {},
   "outputs": [
    {
     "data": {
      "text/plain": [
       "engineSize\n",
       "0.0       1\n",
       "1.5     572\n",
       "1.6     263\n",
       "1.8      12\n",
       "2.0    1376\n",
       "2.1    1356\n",
       "2.2       2\n",
       "3.0     168\n",
       "4.0      92\n",
       "6.2       9\n",
       "Name: count, dtype: int64"
      ]
     },
     "execution_count": 27,
     "metadata": {},
     "output_type": "execute_result"
    }
   ],
   "source": [
    "df['engineSize'].value_counts().sort_index()"
   ]
  },
  {
   "cell_type": "markdown",
   "metadata": {},
   "source": [
    "Temos alguns dados estranhos, mas o jeito de tratá-los será diferente:\n",
    "\n",
    "- Temos um motor de zero litros. Isso não faz sentido e provavelmente teremos que eliminar esse exemplo.\n",
    "\n",
    "- Temos motores raros de $2.2$ litros e de $6.2$ litros. Estes não parecem ser erros, vamos mantê-los."
   ]
  },
  {
   "cell_type": "code",
   "execution_count": 28,
   "metadata": {},
   "outputs": [],
   "source": [
    "df = df[df.engineSize != 0.0]"
   ]
  },
  {
   "cell_type": "code",
   "execution_count": 29,
   "metadata": {},
   "outputs": [
    {
     "data": {
      "text/plain": [
       "engineSize\n",
       "1.5     572\n",
       "1.6     263\n",
       "1.8      12\n",
       "2.0    1376\n",
       "2.1    1356\n",
       "2.2       2\n",
       "3.0     168\n",
       "4.0      92\n",
       "6.2       9\n",
       "Name: count, dtype: int64"
      ]
     },
     "execution_count": 29,
     "metadata": {},
     "output_type": "execute_result"
    }
   ],
   "source": [
    "df['engineSize'].value_counts().sort_index()"
   ]
  },
  {
   "cell_type": "markdown",
   "metadata": {},
   "source": [
    "#### `mileage`"
   ]
  },
  {
   "cell_type": "code",
   "execution_count": 30,
   "metadata": {},
   "outputs": [
    {
     "data": {
      "text/plain": [
       "<Axes: ylabel='Frequency'>"
      ]
     },
     "execution_count": 30,
     "metadata": {},
     "output_type": "execute_result"
    },
    {
     "data": {
      "image/png": "[encoded data removed]",
      "text/plain": [
       "<Figure size 640x480 with 1 Axes>"
      ]
     },
     "metadata": {},
     "output_type": "display_data"
    }
   ],
   "source": [
    "df['mileage'].plot.hist(bins=50)"
   ]
  },
  {
   "cell_type": "code",
   "execution_count": 31,
   "metadata": {},
   "outputs": [
    {
     "data": {
      "text/html": [
       "<div>\n",
       "<style scoped>\n",
       "    .dataframe tbody tr th:only-of-type {\n",
       "        vertical-align: middle;\n",
       "    }\n",
       "\n",
       "    .dataframe tbody tr th {\n",
       "        vertical-align: top;\n",
       "    }\n",
       "\n",
       "    .dataframe thead th {\n",
       "        text-align: right;\n",
       "    }\n",
       "</style>\n",
       "<table border=\"1\" class=\"dataframe\">\n",
       "  <thead>\n",
       "    <tr style=\"text-align: right;\">\n",
       "      <th></th>\n",
       "      <th>year</th>\n",
       "      <th>price</th>\n",
       "      <th>transmission</th>\n",
       "      <th>mileage</th>\n",
       "      <th>fuelType</th>\n",
       "      <th>engineSize</th>\n",
       "    </tr>\n",
       "  </thead>\n",
       "  <tbody>\n",
       "    <tr>\n",
       "      <th>3001</th>\n",
       "      <td>2014</td>\n",
       "      <td>10393.0</td>\n",
       "      <td>Automatic</td>\n",
       "      <td>140000.0</td>\n",
       "      <td>Diesel</td>\n",
       "      <td>2.1</td>\n",
       "    </tr>\n",
       "    <tr>\n",
       "      <th>3002</th>\n",
       "      <td>2015</td>\n",
       "      <td>10791.0</td>\n",
       "      <td>Manual</td>\n",
       "      <td>129000.0</td>\n",
       "      <td>Diesel</td>\n",
       "      <td>2.1</td>\n",
       "    </tr>\n",
       "    <tr>\n",
       "      <th>3008</th>\n",
       "      <td>2016</td>\n",
       "      <td>11393.0</td>\n",
       "      <td>Automatic</td>\n",
       "      <td>128000.0</td>\n",
       "      <td>Diesel</td>\n",
       "      <td>2.1</td>\n",
       "    </tr>\n",
       "    <tr>\n",
       "      <th>3009</th>\n",
       "      <td>2015</td>\n",
       "      <td>8692.0</td>\n",
       "      <td>Manual</td>\n",
       "      <td>150000.0</td>\n",
       "      <td>Diesel</td>\n",
       "      <td>2.1</td>\n",
       "    </tr>\n",
       "    <tr>\n",
       "      <th>3302</th>\n",
       "      <td>2015</td>\n",
       "      <td>12995.0</td>\n",
       "      <td>Automatic</td>\n",
       "      <td>131790.0</td>\n",
       "      <td>Hybrid</td>\n",
       "      <td>2.1</td>\n",
       "    </tr>\n",
       "    <tr>\n",
       "      <th>3316</th>\n",
       "      <td>2015</td>\n",
       "      <td>10795.0</td>\n",
       "      <td>Automatic</td>\n",
       "      <td>136760.0</td>\n",
       "      <td>Hybrid</td>\n",
       "      <td>2.1</td>\n",
       "    </tr>\n",
       "    <tr>\n",
       "      <th>3377</th>\n",
       "      <td>2010</td>\n",
       "      <td>4294.0</td>\n",
       "      <td>Manual</td>\n",
       "      <td>137291.0</td>\n",
       "      <td>Diesel</td>\n",
       "      <td>2.1</td>\n",
       "    </tr>\n",
       "    <tr>\n",
       "      <th>3442</th>\n",
       "      <td>2012</td>\n",
       "      <td>5250.0</td>\n",
       "      <td>Automatic</td>\n",
       "      <td>170000.0</td>\n",
       "      <td>Diesel</td>\n",
       "      <td>2.1</td>\n",
       "    </tr>\n",
       "  </tbody>\n",
       "</table>\n",
       "</div>"
      ],
      "text/plain": [
       "      year    price transmission   mileage fuelType  engineSize\n",
       "3001  2014  10393.0    Automatic  140000.0   Diesel         2.1\n",
       "3002  2015  10791.0       Manual  129000.0   Diesel         2.1\n",
       "3008  2016  11393.0    Automatic  128000.0   Diesel         2.1\n",
       "3009  2015   8692.0       Manual  150000.0   Diesel         2.1\n",
       "3302  2015  12995.0    Automatic  131790.0   Hybrid         2.1\n",
       "3316  2015  10795.0    Automatic  136760.0   Hybrid         2.1\n",
       "3377  2010   4294.0       Manual  137291.0   Diesel         2.1\n",
       "3442  2012   5250.0    Automatic  170000.0   Diesel         2.1"
      ]
     },
     "execution_count": 31,
     "metadata": {},
     "output_type": "execute_result"
    }
   ],
   "source": [
    "df[df['mileage'] > 125000]"
   ]
  },
  {
   "cell_type": "markdown",
   "metadata": {},
   "source": [
    "Nada errado aqui, manter como está"
   ]
  },
  {
   "cell_type": "markdown",
   "metadata": {},
   "source": [
    "#### `price`"
   ]
  },
  {
   "cell_type": "code",
   "execution_count": 32,
   "metadata": {},
   "outputs": [
    {
     "data": {
      "text/plain": [
       "<Axes: ylabel='Frequency'>"
      ]
     },
     "execution_count": 32,
     "metadata": {},
     "output_type": "execute_result"
    },
    {
     "data": {
      "image/png": "[encoded data removed]",
      "text/plain": [
       "<Figure size 640x480 with 1 Axes>"
      ]
     },
     "metadata": {},
     "output_type": "display_data"
    }
   ],
   "source": [
    "df['price'].plot.hist(bins=50)"
   ]
  },
  {
   "cell_type": "code",
   "execution_count": 33,
   "metadata": {},
   "outputs": [
    {
     "data": {
      "text/html": [
       "<div>\n",
       "<style scoped>\n",
       "    .dataframe tbody tr th:only-of-type {\n",
       "        vertical-align: middle;\n",
       "    }\n",
       "\n",
       "    .dataframe tbody tr th {\n",
       "        vertical-align: top;\n",
       "    }\n",
       "\n",
       "    .dataframe thead th {\n",
       "        text-align: right;\n",
       "    }\n",
       "</style>\n",
       "<table border=\"1\" class=\"dataframe\">\n",
       "  <thead>\n",
       "    <tr style=\"text-align: right;\">\n",
       "      <th></th>\n",
       "      <th>year</th>\n",
       "      <th>price</th>\n",
       "      <th>transmission</th>\n",
       "      <th>mileage</th>\n",
       "      <th>fuelType</th>\n",
       "      <th>engineSize</th>\n",
       "    </tr>\n",
       "  </thead>\n",
       "  <tbody>\n",
       "    <tr>\n",
       "      <th>2765</th>\n",
       "      <td>2019</td>\n",
       "      <td>88995.0</td>\n",
       "      <td>Semi-Auto</td>\n",
       "      <td>200.0</td>\n",
       "      <td>Petrol</td>\n",
       "      <td>4.0</td>\n",
       "    </tr>\n",
       "    <tr>\n",
       "      <th>564</th>\n",
       "      <td>2020</td>\n",
       "      <td>69995.0</td>\n",
       "      <td>Semi-Auto</td>\n",
       "      <td>250.0</td>\n",
       "      <td>Petrol</td>\n",
       "      <td>4.0</td>\n",
       "    </tr>\n",
       "    <tr>\n",
       "      <th>1666</th>\n",
       "      <td>2019</td>\n",
       "      <td>69950.0</td>\n",
       "      <td>Automatic</td>\n",
       "      <td>1079.0</td>\n",
       "      <td>Petrol</td>\n",
       "      <td>4.0</td>\n",
       "    </tr>\n",
       "    <tr>\n",
       "      <th>2664</th>\n",
       "      <td>2019</td>\n",
       "      <td>69679.0</td>\n",
       "      <td>Semi-Auto</td>\n",
       "      <td>1000.0</td>\n",
       "      <td>Petrol</td>\n",
       "      <td>4.0</td>\n",
       "    </tr>\n",
       "    <tr>\n",
       "      <th>2181</th>\n",
       "      <td>2019</td>\n",
       "      <td>69399.0</td>\n",
       "      <td>Semi-Auto</td>\n",
       "      <td>1615.0</td>\n",
       "      <td>Petrol</td>\n",
       "      <td>4.0</td>\n",
       "    </tr>\n",
       "    <tr>\n",
       "      <th>3856</th>\n",
       "      <td>2020</td>\n",
       "      <td>68995.0</td>\n",
       "      <td>Automatic</td>\n",
       "      <td>2000.0</td>\n",
       "      <td>Petrol</td>\n",
       "      <td>4.0</td>\n",
       "    </tr>\n",
       "    <tr>\n",
       "      <th>2386</th>\n",
       "      <td>2019</td>\n",
       "      <td>68399.0</td>\n",
       "      <td>Semi-Auto</td>\n",
       "      <td>1282.0</td>\n",
       "      <td>Petrol</td>\n",
       "      <td>4.0</td>\n",
       "    </tr>\n",
       "    <tr>\n",
       "      <th>325</th>\n",
       "      <td>2020</td>\n",
       "      <td>67999.0</td>\n",
       "      <td>Semi-Auto</td>\n",
       "      <td>1500.0</td>\n",
       "      <td>Petrol</td>\n",
       "      <td>4.0</td>\n",
       "    </tr>\n",
       "    <tr>\n",
       "      <th>818</th>\n",
       "      <td>2019</td>\n",
       "      <td>67980.0</td>\n",
       "      <td>Semi-Auto</td>\n",
       "      <td>3456.0</td>\n",
       "      <td>Petrol</td>\n",
       "      <td>4.0</td>\n",
       "    </tr>\n",
       "    <tr>\n",
       "      <th>1028</th>\n",
       "      <td>2019</td>\n",
       "      <td>67940.0</td>\n",
       "      <td>Automatic</td>\n",
       "      <td>237.0</td>\n",
       "      <td>Petrol</td>\n",
       "      <td>4.0</td>\n",
       "    </tr>\n",
       "    <tr>\n",
       "      <th>2394</th>\n",
       "      <td>2019</td>\n",
       "      <td>67699.0</td>\n",
       "      <td>Automatic</td>\n",
       "      <td>544.0</td>\n",
       "      <td>Petrol</td>\n",
       "      <td>4.0</td>\n",
       "    </tr>\n",
       "    <tr>\n",
       "      <th>897</th>\n",
       "      <td>2019</td>\n",
       "      <td>67495.0</td>\n",
       "      <td>Semi-Auto</td>\n",
       "      <td>700.0</td>\n",
       "      <td>Petrol</td>\n",
       "      <td>4.0</td>\n",
       "    </tr>\n",
       "    <tr>\n",
       "      <th>2456</th>\n",
       "      <td>2019</td>\n",
       "      <td>67199.0</td>\n",
       "      <td>Semi-Auto</td>\n",
       "      <td>2270.0</td>\n",
       "      <td>Petrol</td>\n",
       "      <td>4.0</td>\n",
       "    </tr>\n",
       "    <tr>\n",
       "      <th>2537</th>\n",
       "      <td>2019</td>\n",
       "      <td>67159.0</td>\n",
       "      <td>Automatic</td>\n",
       "      <td>883.0</td>\n",
       "      <td>Petrol</td>\n",
       "      <td>4.0</td>\n",
       "    </tr>\n",
       "    <tr>\n",
       "      <th>1914</th>\n",
       "      <td>2019</td>\n",
       "      <td>67000.0</td>\n",
       "      <td>Automatic</td>\n",
       "      <td>2800.0</td>\n",
       "      <td>Petrol</td>\n",
       "      <td>4.0</td>\n",
       "    </tr>\n",
       "    <tr>\n",
       "      <th>744</th>\n",
       "      <td>2019</td>\n",
       "      <td>66990.0</td>\n",
       "      <td>Automatic</td>\n",
       "      <td>9625.0</td>\n",
       "      <td>Petrol</td>\n",
       "      <td>4.0</td>\n",
       "    </tr>\n",
       "    <tr>\n",
       "      <th>2507</th>\n",
       "      <td>2019</td>\n",
       "      <td>66899.0</td>\n",
       "      <td>Semi-Auto</td>\n",
       "      <td>262.0</td>\n",
       "      <td>Petrol</td>\n",
       "      <td>4.0</td>\n",
       "    </tr>\n",
       "    <tr>\n",
       "      <th>1717</th>\n",
       "      <td>2019</td>\n",
       "      <td>66890.0</td>\n",
       "      <td>Semi-Auto</td>\n",
       "      <td>1200.0</td>\n",
       "      <td>Petrol</td>\n",
       "      <td>4.0</td>\n",
       "    </tr>\n",
       "    <tr>\n",
       "      <th>2038</th>\n",
       "      <td>2019</td>\n",
       "      <td>66699.0</td>\n",
       "      <td>Semi-Auto</td>\n",
       "      <td>630.0</td>\n",
       "      <td>Petrol</td>\n",
       "      <td>4.0</td>\n",
       "    </tr>\n",
       "    <tr>\n",
       "      <th>1624</th>\n",
       "      <td>2020</td>\n",
       "      <td>65990.0</td>\n",
       "      <td>Semi-Auto</td>\n",
       "      <td>999.0</td>\n",
       "      <td>Petrol</td>\n",
       "      <td>4.0</td>\n",
       "    </tr>\n",
       "    <tr>\n",
       "      <th>816</th>\n",
       "      <td>2020</td>\n",
       "      <td>65980.0</td>\n",
       "      <td>Semi-Auto</td>\n",
       "      <td>3999.0</td>\n",
       "      <td>Petrol</td>\n",
       "      <td>4.0</td>\n",
       "    </tr>\n",
       "  </tbody>\n",
       "</table>\n",
       "</div>"
      ],
      "text/plain": [
       "      year    price transmission  mileage fuelType  engineSize\n",
       "2765  2019  88995.0    Semi-Auto    200.0   Petrol         4.0\n",
       "564   2020  69995.0    Semi-Auto    250.0   Petrol         4.0\n",
       "1666  2019  69950.0    Automatic   1079.0   Petrol         4.0\n",
       "2664  2019  69679.0    Semi-Auto   1000.0   Petrol         4.0\n",
       "2181  2019  69399.0    Semi-Auto   1615.0   Petrol         4.0\n",
       "3856  2020  68995.0    Automatic   2000.0   Petrol         4.0\n",
       "2386  2019  68399.0    Semi-Auto   1282.0   Petrol         4.0\n",
       "325   2020  67999.0    Semi-Auto   1500.0   Petrol         4.0\n",
       "818   2019  67980.0    Semi-Auto   3456.0   Petrol         4.0\n",
       "1028  2019  67940.0    Automatic    237.0   Petrol         4.0\n",
       "2394  2019  67699.0    Automatic    544.0   Petrol         4.0\n",
       "897   2019  67495.0    Semi-Auto    700.0   Petrol         4.0\n",
       "2456  2019  67199.0    Semi-Auto   2270.0   Petrol         4.0\n",
       "2537  2019  67159.0    Automatic    883.0   Petrol         4.0\n",
       "1914  2019  67000.0    Automatic   2800.0   Petrol         4.0\n",
       "744   2019  66990.0    Automatic   9625.0   Petrol         4.0\n",
       "2507  2019  66899.0    Semi-Auto    262.0   Petrol         4.0\n",
       "1717  2019  66890.0    Semi-Auto   1200.0   Petrol         4.0\n",
       "2038  2019  66699.0    Semi-Auto    630.0   Petrol         4.0\n",
       "1624  2020  65990.0    Semi-Auto    999.0   Petrol         4.0\n",
       "816   2020  65980.0    Semi-Auto   3999.0   Petrol         4.0"
      ]
     },
     "execution_count": 33,
     "metadata": {},
     "output_type": "execute_result"
    }
   ],
   "source": [
    "df[df['price'] > 65000].sort_values(by='price', ascending=False)"
   ]
  },
  {
   "cell_type": "markdown",
   "metadata": {},
   "source": [
    "Nada errado aqui, à exceção de alguem que quer vender seu carro por um preço exorbitante, essas coisas acontecem. Nada a ser feito nesta coluna."
   ]
  },
  {
   "cell_type": "markdown",
   "metadata": {},
   "source": [
    "## Embaralhando e gravando os dados"
   ]
  },
  {
   "cell_type": "markdown",
   "metadata": {},
   "source": [
    "Vamos embaralhar os dados para evitar viéses de ordenação das amostras na hora de construir nosso modelo. Claro que o scikit-learn já embaralha os dados no `train_test_split`, mas por precaução faremos o embaralhamento também."
   ]
  },
  {
   "cell_type": "code",
   "execution_count": 34,
   "metadata": {},
   "outputs": [],
   "source": [
    "RANDOM_SEED=42\n",
    "\n",
    "df = df.sample(frac=1, random_state=RANDOM_SEED).reset_index(drop=True)"
   ]
  },
  {
   "cell_type": "code",
   "execution_count": 35,
   "metadata": {},
   "outputs": [],
   "source": [
    "df.to_csv('cclass_cleaned.csv', index=False)"
   ]
  },
  {
   "cell_type": "markdown",
   "metadata": {},
   "source": [
    "## Considerações finais"
   ]
  },
  {
   "cell_type": "markdown",
   "metadata": {},
   "source": [
    "- Nosso modelo vai funcionar apenas para automóveis do modelo \"classe C\" da Mercedes\n",
    "\n",
    "- Apenas transmissões dos tipos `Semi-Auto`, `Automatic` e `Manual` são permitidas\n",
    "\n",
    "- Apenas combustíveis dos tipos `Diesel`, `Petrol`, `Hybrid` são permitidos\n",
    "\n",
    "- O modelo servirá apenas para veículos de 2010 em diante."
   ]
  }
 ],
 "metadata": {
  "kernelspec": {
   "display_name": "ml",
   "language": "python",
   "name": "python3"
  },
  "language_info": {
   "codemirror_mode": {
    "name": "ipython",
    "version": 3
   },
   "file_extension": ".py",
   "mimetype": "text/x-python",
   "name": "python",
   "nbconvert_exporter": "python",
   "pygments_lexer": "ipython3",
   "version": "3.11.3"
  }
 },
 "nbformat": 4,
 "nbformat_minor": 2
}
